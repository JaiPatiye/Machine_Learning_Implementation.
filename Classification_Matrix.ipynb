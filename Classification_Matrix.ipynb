{
 "cells": [
  {
   "cell_type": "code",
   "execution_count": 30,
   "metadata": {},
   "outputs": [],
   "source": [
    "import numpy as np\n",
    "import pandas as pd\n",
    "from sklearn import metrics\n",
    "import matplotlib.pyplot as plt\n",
    "\n",
    "import warnings\n",
    "warnings.filterwarnings('ignore')\n"
   ]
  },
  {
   "cell_type": "markdown",
   "metadata": {},
   "source": [
    "# Classification Metrices"
   ]
  },
  {
   "cell_type": "code",
   "execution_count": 31,
   "metadata": {},
   "outputs": [],
   "source": [
    "Classification_data = pd.read_csv('Classfication.csv')"
   ]
  },
  {
   "cell_type": "code",
   "execution_count": 32,
   "metadata": {},
   "outputs": [
    {
     "data": {
      "text/html": [
       "<div>\n",
       "<style scoped>\n",
       "    .dataframe tbody tr th:only-of-type {\n",
       "        vertical-align: middle;\n",
       "    }\n",
       "\n",
       "    .dataframe tbody tr th {\n",
       "        vertical-align: top;\n",
       "    }\n",
       "\n",
       "    .dataframe thead th {\n",
       "        text-align: right;\n",
       "    }\n",
       "</style>\n",
       "<table border=\"1\" class=\"dataframe\">\n",
       "  <thead>\n",
       "    <tr style=\"text-align: right;\">\n",
       "      <th></th>\n",
       "      <th>y_test</th>\n",
       "      <th>y_pred</th>\n",
       "      <th>y_pred_prob_class1</th>\n",
       "    </tr>\n",
       "  </thead>\n",
       "  <tbody>\n",
       "    <tr>\n",
       "      <th>0</th>\n",
       "      <td>0</td>\n",
       "      <td>0</td>\n",
       "      <td>0.043126</td>\n",
       "    </tr>\n",
       "    <tr>\n",
       "      <th>1</th>\n",
       "      <td>0</td>\n",
       "      <td>0</td>\n",
       "      <td>0.131228</td>\n",
       "    </tr>\n",
       "    <tr>\n",
       "      <th>2</th>\n",
       "      <td>1</td>\n",
       "      <td>0</td>\n",
       "      <td>0.211326</td>\n",
       "    </tr>\n",
       "    <tr>\n",
       "      <th>3</th>\n",
       "      <td>0</td>\n",
       "      <td>0</td>\n",
       "      <td>0.138208</td>\n",
       "    </tr>\n",
       "    <tr>\n",
       "      <th>4</th>\n",
       "      <td>0</td>\n",
       "      <td>0</td>\n",
       "      <td>0.044709</td>\n",
       "    </tr>\n",
       "  </tbody>\n",
       "</table>\n",
       "</div>"
      ],
      "text/plain": [
       "   y_test  y_pred  y_pred_prob_class1\n",
       "0       0       0            0.043126\n",
       "1       0       0            0.131228\n",
       "2       1       0            0.211326\n",
       "3       0       0            0.138208\n",
       "4       0       0            0.044709"
      ]
     },
     "execution_count": 32,
     "metadata": {},
     "output_type": "execute_result"
    }
   ],
   "source": [
    "Classification_data.head()"
   ]
  },
  {
   "cell_type": "code",
   "execution_count": 33,
   "metadata": {},
   "outputs": [],
   "source": [
    "y_test = Classification_data['y_test']\n",
    "y_pred = Classification_data['y_pred']\n",
    "y_pred_prob_class1 = Classification_data['y_pred_prob_class1']"
   ]
  },
  {
   "cell_type": "markdown",
   "metadata": {},
   "source": [
    "## Task:\n",
    "** To form a confusion matrix from these results and derive metrics from it. **"
   ]
  },
  {
   "cell_type": "code",
   "execution_count": 34,
   "metadata": {},
   "outputs": [],
   "source": [
    "## importing necessary libraries\n",
    "\n",
    "from sklearn.metrics import confusion_matrix"
   ]
  },
  {
   "cell_type": "markdown",
   "metadata": {},
   "source": [
    "#### Form a confusion matrix (actuals/predictions on horizontal/vertical axis respectively)"
   ]
  },
  {
   "cell_type": "code",
   "execution_count": 35,
   "metadata": {},
   "outputs": [
    {
     "name": "stdout",
     "output_type": "stream",
     "text": [
      "[[109  16]\n",
      " [ 33  34]]\n"
     ]
    }
   ],
   "source": [
    "# forming confusion matrix (actuals/predictions on horizontal/vertical axis respectively)\n",
    "cf = confusion_matrix(y_test,y_pred)\n",
    "print(cf)"
   ]
  },
  {
   "cell_type": "markdown",
   "metadata": {},
   "source": [
    "Q: __What is the size of Confusion Matrix?__\n",
    "\n",
    "Choose only ONE best answer.\n",
    "* A: (2,2)\n",
    "* B: (3,3)\n",
    "* C: (4,4)\n",
    "* D: (1,1)\n",
    "\n",
    "\n",
    "Ans: A\n"
   ]
  },
  {
   "cell_type": "markdown",
   "metadata": {},
   "source": [
    "#### Extract True Positive, True Negative, False Positive, False Negative"
   ]
  },
  {
   "cell_type": "code",
   "execution_count": 36,
   "metadata": {},
   "outputs": [
    {
     "name": "stdout",
     "output_type": "stream",
     "text": [
      "34 33 109 16\n"
     ]
    }
   ],
   "source": [
    "## Extract True Positive, True Negative, False Positive, False Negative\n",
    "## Note that all these values are corresponding to class 1\n",
    "\n",
    "#true positive\n",
    "tp = cf[1,1]\n",
    "\n",
    "#false positive\n",
    "fp = cf[1,0]\n",
    "\n",
    "#true negative\n",
    "tn = cf[0,0]\n",
    "\n",
    "#false negative\n",
    "fn = cf[0,1]\n",
    "\n",
    "print(tp,fp,tn,fn)"
   ]
  },
  {
   "cell_type": "markdown",
   "metadata": {},
   "source": [
    "Q: __Arrange the following in descending order__\n",
    "\n",
    "TP, FP, TN, FN\n",
    "\n",
    "Choose only ONE best answer.\n",
    "\n",
    "* A: A,B,C,D\n",
    "* B: C,A,B,D\n",
    "* C: A,C,D,B\n",
    "* D: C,D,A,B\n",
    "\n",
    "Ans : B\n"
   ]
  },
  {
   "cell_type": "markdown",
   "metadata": {},
   "source": [
    "#### Calculate Precision, Recall and f1 score"
   ]
  },
  {
   "cell_type": "code",
   "execution_count": 38,
   "metadata": {},
   "outputs": [
    {
     "data": {
      "text/plain": [
       "(0.5074626865671642, 0.68, 0.5811965811965812)"
      ]
     },
     "execution_count": 38,
     "metadata": {},
     "output_type": "execute_result"
    }
   ],
   "source": [
    "## Calculate Precision\n",
    "precision = tp/(tp+fp)\n",
    "\n",
    "## Calculate Recall\n",
    "recall = tp/(tp+fn)\n",
    "\n",
    "## Calculate f1 score\n",
    "f1 = 2/((1/precision)+(1/recall))\n",
    "\n",
    "precision, recall, f1"
   ]
  },
  {
   "cell_type": "markdown",
   "metadata": {},
   "source": [
    "Q: __What are the values of Precision, Recall, and F1 score?__\n",
    "\n",
    "Choose only ONE best answer.\n",
    "* A: Precision = 0.50, Recall = 0.58, F1 score = 0.68\n",
    "* B: Precision = 0.58, Recall = 0.50, F1 score = 0.68\n",
    "* C: Precision = 0.68, Recall = 0.58, F1 score = 0.50\n",
    "* D: Precision = 0.50, Recall = 0.68, F1 score = 0.58\n",
    "\n",
    "Ans : D\n"
   ]
  },
  {
   "cell_type": "markdown",
   "metadata": {},
   "source": [
    "## Task:\n",
    "** To draw a ROC Curve and get insights from it **"
   ]
  },
  {
   "cell_type": "markdown",
   "metadata": {},
   "source": [
    "#### Fill the right entries for building ROC Curve"
   ]
  },
  {
   "cell_type": "code",
   "execution_count": 39,
   "metadata": {},
   "outputs": [
    {
     "data": {
      "image/png": "[encoded data removed]",
      "text/plain": [
       "<Figure size 432x288 with 1 Axes>"
      ]
     },
     "metadata": {
      "needs_background": "light"
     },
     "output_type": "display_data"
    }
   ],
   "source": [
    "fpr, tpr, thresholds = metrics.roc_curve(y_test, y_pred_prob_class1)\n",
    "\n",
    "plt.plot(fpr, tpr, label=\"logreg\")\n",
    "plt.title('ROC curve')\n",
    "plt.xlabel('False Positive Rate (1 - Specificity)')\n",
    "plt.ylabel('True Positive Rate (Sensitivity)')\n",
    "plt.legend(loc=\"lower right\", fontsize=10)\n",
    "plt.grid(True)"
   ]
  },
  {
   "cell_type": "markdown",
   "metadata": {},
   "source": [
    "#### Define a function that accepts a threshold and prints sensitivity and specificity?"
   ]
  },
  {
   "cell_type": "code",
   "execution_count": 40,
   "metadata": {},
   "outputs": [
    {
     "name": "stdout",
     "output_type": "stream",
     "text": [
      "Sensitivity: 0.8805970149253731\n",
      "Specificity: 0.5840000000000001\n"
     ]
    }
   ],
   "source": [
    "def evaluate_threshold(tpr, fpr,clf_threshold, threshold):\n",
    "    print('Sensitivity:', tpr[clf_threshold > threshold][-1])\n",
    "    print('Specificity:', 1 - fpr[clf_threshold > threshold][-1])\n",
    "    \n",
    "evaluate_threshold(tpr, fpr, thresholds, 0.2)"
   ]
  },
  {
   "cell_type": "markdown",
   "metadata": {},
   "source": [
    "#### Find out ROC_AUC score."
   ]
  },
  {
   "cell_type": "code",
   "execution_count": 41,
   "metadata": {},
   "outputs": [
    {
     "name": "stdout",
     "output_type": "stream",
     "text": [
      "0.8132537313432836\n"
     ]
    }
   ],
   "source": [
    "roc_auc = metrics.roc_auc_score(y_test, y_pred_prob_class1)\n",
    "print(roc_auc)"
   ]
  },
  {
   "cell_type": "markdown",
   "metadata": {},
   "source": [
    "Q: __What is the ROC_AUC Score?__\n",
    "\n",
    "__Choose only ONE best answer.__\n",
    "\n",
    "* A: 0.51\n",
    "* B: 0.61\n",
    "* C: 0.71\n",
    "* D: 0.81\n",
    "\n",
    "Ans : D\n"
   ]
  },
  {
   "cell_type": "markdown",
   "metadata": {},
   "source": [
    "## Task:\n",
    "** To draw a Precision Recall Curve and get insights from it **"
   ]
  },
  {
   "cell_type": "code",
   "execution_count": 12,
   "metadata": {},
   "outputs": [],
   "source": [
    "from sklearn.metrics import precision_recall_curve"
   ]
  },
  {
   "cell_type": "markdown",
   "metadata": {},
   "source": [
    "### Fill the right entries for building Precision Recall Curve"
   ]
  },
  {
   "cell_type": "code",
   "execution_count": 13,
   "metadata": {},
   "outputs": [
    {
     "data": {
      "image/png": "[encoded data removed]",
      "text/plain": [
       "<Figure size 432x288 with 1 Axes>"
      ]
     },
     "metadata": {
      "needs_background": "light"
     },
     "output_type": "display_data"
    }
   ],
   "source": [
    "precisions, recalls, thresholds = precision_recall_curve(y_test, y_pred_prob_class1)\n",
    "\n",
    "def plot_precision_recall_vs_threshold(precisions, recalls, thresholds):\n",
    "    plt.plot(thresholds, precisions[:-1], \"b--\", label=\"Precision\")\n",
    "    plt.plot(thresholds, recalls[:-1], \"g-\", label=\"Recall\")\n",
    "    plt.xlabel(\"Threshold\")\n",
    "    plt.legend(loc=\"upper left\")\n",
    "    plt.ylim([0, 1])\n",
    "    \n",
    "plot_precision_recall_vs_threshold(precisions, recalls, thresholds)\n",
    "plt.show()"
   ]
  },
  {
   "cell_type": "markdown",
   "metadata": {},
   "source": [
    "#### Find out the Precision and Recall at 0.4 threshold"
   ]
  },
  {
   "cell_type": "code",
   "execution_count": 14,
   "metadata": {},
   "outputs": [
    {
     "data": {
      "text/plain": [
       "(0.6363636363636364, 0.6268656716417911)"
      ]
     },
     "execution_count": 14,
     "metadata": {},
     "output_type": "execute_result"
    }
   ],
   "source": [
    "from sklearn.metrics import precision_score, recall_score\n",
    "\n",
    "y_pred_new = (y_pred_prob_class1 > 0.4)\n",
    "\n",
    "precisionScore = precision_score(y_test, y_pred_new)\n",
    "recallScore = recall_score(y_test, y_pred_new)\n",
    "precisionScore, recallScore"
   ]
  },
  {
   "cell_type": "markdown",
   "metadata": {},
   "source": [
    "Q: __Select the correct statement?__\n",
    "\n",
    "__Choose only ONE best answer.__\n",
    "* A: Precision is more than Recall at 0.4 threshold.\n",
    "* B: Precision is Less than Recall at 0.4 threshold.\n",
    "* C: Precision is equal to Recall at 0.4 threshold.\n",
    "\n",
    "Ans : A"
   ]
  }
 ],
 "metadata": {
  "kernelspec": {
   "display_name": "Python 3",
   "language": "python",
   "name": "python3"
  },
  "language_info": {
   "codemirror_mode": {
    "name": "ipython",
    "version": 3
   },
   "file_extension": ".py",
   "mimetype": "text/x-python",
   "name": "python",
   "nbconvert_exporter": "python",
   "pygments_lexer": "ipython3",
   "version": "3.6.9"
  }
 },
 "nbformat": 4,
 "nbformat_minor": 4
}
