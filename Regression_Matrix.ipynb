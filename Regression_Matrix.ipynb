{
 "cells": [
  {
   "cell_type": "code",
   "execution_count": 18,
   "metadata": {},
   "outputs": [],
   "source": [
    "import numpy as np\n",
    "import pandas as pd\n",
    "from sklearn import metrics\n",
    "import matplotlib.pyplot as plt\n",
    "\n",
    "import warnings\n",
    "warnings.filterwarnings('ignore')\n"
   ]
  },
  {
   "cell_type": "markdown",
   "metadata": {},
   "source": [
    "# Regression Metrices"
   ]
  },
  {
   "cell_type": "code",
   "execution_count": 19,
   "metadata": {},
   "outputs": [],
   "source": [
    "Regression_data = pd.read_csv('House_Data.csv')"
   ]
  },
  {
   "cell_type": "code",
   "execution_count": 20,
   "metadata": {},
   "outputs": [
    {
     "data": {
      "text/html": [
       "<div>\n",
       "<style scoped>\n",
       "    .dataframe tbody tr th:only-of-type {\n",
       "        vertical-align: middle;\n",
       "    }\n",
       "\n",
       "    .dataframe tbody tr th {\n",
       "        vertical-align: top;\n",
       "    }\n",
       "\n",
       "    .dataframe thead th {\n",
       "        text-align: right;\n",
       "    }\n",
       "</style>\n",
       "<table border=\"1\" class=\"dataframe\">\n",
       "  <thead>\n",
       "    <tr style=\"text-align: right;\">\n",
       "      <th></th>\n",
       "      <th>y_test</th>\n",
       "      <th>y_pred_house</th>\n",
       "    </tr>\n",
       "  </thead>\n",
       "  <tbody>\n",
       "    <tr>\n",
       "      <th>0</th>\n",
       "      <td>22.6</td>\n",
       "      <td>24.952333</td>\n",
       "    </tr>\n",
       "    <tr>\n",
       "      <th>1</th>\n",
       "      <td>50.0</td>\n",
       "      <td>23.616997</td>\n",
       "    </tr>\n",
       "    <tr>\n",
       "      <th>2</th>\n",
       "      <td>23.0</td>\n",
       "      <td>29.205886</td>\n",
       "    </tr>\n",
       "    <tr>\n",
       "      <th>3</th>\n",
       "      <td>8.3</td>\n",
       "      <td>11.960705</td>\n",
       "    </tr>\n",
       "    <tr>\n",
       "      <th>4</th>\n",
       "      <td>21.2</td>\n",
       "      <td>21.333620</td>\n",
       "    </tr>\n",
       "  </tbody>\n",
       "</table>\n",
       "</div>"
      ],
      "text/plain": [
       "   y_test  y_pred_house\n",
       "0    22.6     24.952333\n",
       "1    50.0     23.616997\n",
       "2    23.0     29.205886\n",
       "3     8.3     11.960705\n",
       "4    21.2     21.333620"
      ]
     },
     "execution_count": 20,
     "metadata": {},
     "output_type": "execute_result"
    }
   ],
   "source": [
    "Regression_data.head()"
   ]
  },
  {
   "cell_type": "code",
   "execution_count": 21,
   "metadata": {},
   "outputs": [],
   "source": [
    "y_test = Regression_data['y_test']\n",
    "y_pred_house = Regression_data['y_pred_house']"
   ]
  },
  {
   "cell_type": "markdown",
   "metadata": {},
   "source": [
    "#### Calculate Mean Absolute Error : Hand Implementation"
   ]
  },
  {
   "cell_type": "code",
   "execution_count": 22,
   "metadata": {},
   "outputs": [
    {
     "data": {
      "text/plain": [
       "3.6683301481357145"
      ]
     },
     "execution_count": 22,
     "metadata": {},
     "output_type": "execute_result"
    }
   ],
   "source": [
    "def mean_absolute_error(y_test, y_pred):\n",
    "    return (1 / len(y_test)) * np.sum(np.abs(y_test - y_pred_house))\n",
    "    \n",
    "mean_absolute_error(y_test, y_pred_house)\n"
   ]
  },
  {
   "cell_type": "markdown",
   "metadata": {},
   "source": [
    "#### Calculate Mean Absolute Error : Scikit Learn Implementation"
   ]
  },
  {
   "cell_type": "code",
   "execution_count": 23,
   "metadata": {},
   "outputs": [
    {
     "name": "stdout",
     "output_type": "stream",
     "text": [
      "3.668330148135715\n"
     ]
    }
   ],
   "source": [
    "print(metrics.mean_absolute_error(y_test, y_pred_house))"
   ]
  },
  {
   "cell_type": "markdown",
   "metadata": {},
   "source": [
    "Q: __What is the value of Mean Absolute Error ?__\n",
    "\n",
    "* A: 3.66\n",
    "* B: 2.66\n",
    "* C: 4.66\n",
    "* D: 1.66\n",
    "\n",
    "Ans : A"
   ]
  },
  {
   "cell_type": "markdown",
   "metadata": {},
   "source": [
    "#### Calculate Median Absolute Error : Hand Implementation"
   ]
  },
  {
   "cell_type": "code",
   "execution_count": 24,
   "metadata": {},
   "outputs": [
    {
     "data": {
      "text/plain": [
       "2.620609678939079"
      ]
     },
     "execution_count": 24,
     "metadata": {},
     "output_type": "execute_result"
    }
   ],
   "source": [
    "def median_absolute_error(y_test, y_pred):\n",
    "    return np.median(np.abs(y_test - y_pred))\n",
    "    \n",
    "median_absolute_error(y_test, y_pred_house)"
   ]
  },
  {
   "cell_type": "markdown",
   "metadata": {},
   "source": [
    "#### Calculate Median Absolute Error : Scikit Learn Implementation"
   ]
  },
  {
   "cell_type": "code",
   "execution_count": 26,
   "metadata": {},
   "outputs": [
    {
     "data": {
      "text/plain": [
       "2.620609678939079"
      ]
     },
     "execution_count": 26,
     "metadata": {},
     "output_type": "execute_result"
    }
   ],
   "source": [
    "from sklearn.metrics import median_absolute_error\n",
    "\n",
    "median_absolute_error(y_test, y_pred_house)"
   ]
  },
  {
   "cell_type": "markdown",
   "metadata": {},
   "source": [
    "Q: __Select the _incorrect_ statements ?__\n",
    "* A : Mean Absolute Error is smaller than Median Absolute Error\n",
    "* B : Median Absolute Error is smaller than Mean Absolute Error\n",
    "* C : Both are equal to each other\n",
    "* D : Median absolute error is always smaller than Mean Absolute Error \n",
    "\n",
    "Ans : A,C,D"
   ]
  },
  {
   "cell_type": "markdown",
   "metadata": {},
   "source": [
    "#### Calculate Mean Squared Error : Hand Implementation"
   ]
  },
  {
   "cell_type": "code",
   "execution_count": 27,
   "metadata": {},
   "outputs": [
    {
     "data": {
      "text/plain": [
       "29.78224509230234"
      ]
     },
     "execution_count": 27,
     "metadata": {},
     "output_type": "execute_result"
    }
   ],
   "source": [
    "def mean_squared_error(y_test, y_pred_house):\n",
    "    return (1 / len(y_test)) * np.sum((y_test - y_pred_house)**2)\n",
    "\n",
    "mean_squared_error(y_test, y_pred_house)"
   ]
  },
  {
   "cell_type": "markdown",
   "metadata": {},
   "source": [
    "#### Calculate Mean Squared Error : Scikiit Learn Implementation"
   ]
  },
  {
   "cell_type": "code",
   "execution_count": 28,
   "metadata": {},
   "outputs": [
    {
     "name": "stdout",
     "output_type": "stream",
     "text": [
      "29.78224509230234\n"
     ]
    }
   ],
   "source": [
    "print(metrics.mean_squared_error(y_test, y_pred_house))"
   ]
  },
  {
   "cell_type": "markdown",
   "metadata": {},
   "source": [
    "Q: __Which is the closest integer to the value of Mean Squared error ?__\n",
    "\n",
    "* A: 29\n",
    "* B: 30\n",
    "* C: 31\n",
    "* D: 32\n",
    "\n",
    "Ans : B"
   ]
  },
  {
   "cell_type": "markdown",
   "metadata": {},
   "source": [
    "#### Calculate Root Mean Squared Error : Hand Implementation"
   ]
  },
  {
   "cell_type": "code",
   "execution_count": 29,
   "metadata": {},
   "outputs": [
    {
     "data": {
      "text/plain": [
       "5.457311159564052"
      ]
     },
     "execution_count": 29,
     "metadata": {},
     "output_type": "execute_result"
    }
   ],
   "source": [
    "def mean_squared_error(y_test, y_pred_house):\n",
    "    return np.sqrt((1 / len(y_test)) * np.sum((y_test - y_pred_house)**2))\n",
    "\n",
    "mean_squared_error(y_test, y_pred_house)\n",
    "\n"
   ]
  },
  {
   "cell_type": "markdown",
   "metadata": {},
   "source": [
    "#### Calculate Root Mean Squared Error : Scikit Learn Implementation"
   ]
  },
  {
   "cell_type": "code",
   "execution_count": 30,
   "metadata": {},
   "outputs": [
    {
     "name": "stdout",
     "output_type": "stream",
     "text": [
      "5.457311159564052\n"
     ]
    }
   ],
   "source": [
    "print(np.sqrt(metrics.mean_squared_error(y_test, y_pred_house)))"
   ]
  },
  {
   "cell_type": "markdown",
   "metadata": {},
   "source": [
    "Q: __Select the incorrect statements ?__\n",
    "\n",
    "* A: Root Mean Squared Error is square root of Mean Squared Error\n",
    "* B: Value of Root Mean Squared Error is always smaller than Mean Squared Error\n",
    "* C: The value of RMSE is 5.45\n",
    "* D: MSE can never be a negative number \n",
    "\n",
    "Ans : B"
   ]
  },
  {
   "cell_type": "markdown",
   "metadata": {},
   "source": [
    "#### Calculate Mean Squared Log Error : Hand Implementation"
   ]
  },
  {
   "cell_type": "code",
   "execution_count": 13,
   "metadata": {},
   "outputs": [
    {
     "data": {
      "text/plain": [
       "0.10011074434042967"
      ]
     },
     "execution_count": 13,
     "metadata": {},
     "output_type": "execute_result"
    }
   ],
   "source": [
    "def rmsle(y_test, y_pred_house):\n",
    "    return (np.mean(np.square(np.log1p(y_pred_house) - np.log1p(y_test))))\n",
    "rmsle(y_test,y_pred_house)\n"
   ]
  },
  {
   "cell_type": "markdown",
   "metadata": {},
   "source": [
    "#### Calculate Mean Squared Log Error : Scikit Learn Implementation"
   ]
  },
  {
   "cell_type": "code",
   "execution_count": 14,
   "metadata": {},
   "outputs": [
    {
     "name": "stdout",
     "output_type": "stream",
     "text": [
      "0.10011074434042967\n"
     ]
    }
   ],
   "source": [
    "print(metrics.mean_squared_log_error(y_test, y_pred_house))"
   ]
  },
  {
   "cell_type": "markdown",
   "metadata": {},
   "source": [
    "Q: __Arrange the following in ascending order for our Dataset ?__\n",
    "\n",
    "MAE : Mean Absolute Error,\n",
    "MdAE: Median Absolute Error, \n",
    "MSE:  Mean Squared Error, \n",
    "RMSE: Root Mean Squared Error\n",
    "MSLE: Mean Squared Log Error\n",
    "\n",
    "* A: MAE, MdAE, MSLE, RMSE, MSE\n",
    "* B: MSLE, MAE, MdAE, RMSE, MSE\n",
    "* C: MSLE, RMSE, MSE, MAE, MdAE\n",
    "* D: MSLE, MdAE, MAE, RMSE, MSE\n",
    "\n",
    "Ans : D\n"
   ]
  },
  {
   "cell_type": "markdown",
   "metadata": {},
   "source": [
    "#### Calculate R2 score : Hand Implementation"
   ]
  },
  {
   "cell_type": "code",
   "execution_count": 15,
   "metadata": {},
   "outputs": [
    {
     "data": {
      "text/plain": [
       "0.6354638433202132"
      ]
     },
     "execution_count": 15,
     "metadata": {},
     "output_type": "execute_result"
    }
   ],
   "source": [
    "def r2_score(y_test, y_pred_house):\n",
    "    rss_adj = np.sum((y_test - y_pred_house)**2)\n",
    "    n = len(y_test)\n",
    "    y_bar_adj = (1 / n) * np.sum(y_test)\n",
    "    ess_adj = np.sum((y_test - y_bar_adj)**2)\n",
    "    return 1 - rss_adj / ess_adj\n",
    "\n",
    "r2_score(y_test, y_pred_house)"
   ]
  },
  {
   "cell_type": "markdown",
   "metadata": {},
   "source": [
    "#### Calculate R2 score : Scikit Learn Implementation\n"
   ]
  },
  {
   "cell_type": "code",
   "execution_count": 16,
   "metadata": {},
   "outputs": [
    {
     "name": "stdout",
     "output_type": "stream",
     "text": [
      "0.6354638433202132\n"
     ]
    }
   ],
   "source": [
    "print(metrics.r2_score(y_test, y_pred_house))"
   ]
  },
  {
   "cell_type": "markdown",
   "metadata": {},
   "source": [
    "Q: __What  is the value of R2 score__\n",
    "\n",
    "* A: 0.63\n",
    "* B: 0.73\n",
    "* C: 0.83\n",
    "* D: 0.93\n",
    "\n",
    "Ans : A"
   ]
  },
  {
   "cell_type": "markdown",
   "metadata": {},
   "source": [
    "Q: __What is the range of R-2 score?__\n",
    "\n",
    "Choose only ONE best answer.\n",
    "* A: 0,1\n",
    "* B: 0,100\n",
    "* C: -infinity,infinity\n",
    "* D: -1,1\n",
    "\n",
    "Ans : A"
   ]
  }
 ],
 "metadata": {
  "kernelspec": {
   "display_name": "Python 3",
   "language": "python",
   "name": "python3"
  },
  "language_info": {
   "codemirror_mode": {
    "name": "ipython",
    "version": 3
   },
   "file_extension": ".py",
   "mimetype": "text/x-python",
   "name": "python",
   "nbconvert_exporter": "python",
   "pygments_lexer": "ipython3",
   "version": "3.6.9"
  }
 },
 "nbformat": 4,
 "nbformat_minor": 4
}
