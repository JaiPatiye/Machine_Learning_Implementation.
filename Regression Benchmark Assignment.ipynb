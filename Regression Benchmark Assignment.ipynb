{
 "cells": [
  {
   "cell_type": "markdown",
   "metadata": {
    "colab_type": "text",
    "id": "6tkHInSfW8zx"
   },
   "source": [
    "# Assignment - Regression Benchmark "
   ]
  },
  {
   "cell_type": "markdown",
   "metadata": {},
   "source": [
    "### Problem Statement"
   ]
  },
  {
   "cell_type": "markdown",
   "metadata": {},
   "source": [
    "Bike sharing systems are new generation of traditional bike rentals where whole process from membership, rental and return back has become automatic. Through these systems, user is able to easily rent a bike from a particular position and return back at another position. \n",
    "\n",
    "Opposed to other transport services such as bus or subway, the duration of travel, departure and arrival position is explicitly recorded in these systems. This feature turns bike sharing system into a virtual sensor network that can be used for sensing mobility in the city.\n",
    "\n",
    "To make the process seamless, and ensure that enough bikes are available for the people, we need to predict the count of bikes required in the coming month based on the past data."
   ]
  },
  {
   "cell_type": "markdown",
   "metadata": {},
   "source": [
    "- date:       Date in \"yyyy-mm-dd\" format\n",
    "- season:     Four categories-> 1 = spring, 2 = summer, 3 = fall, 4 = winter\n",
    "- month:      Extracted from the date variable\n",
    "- hour:       Hour of the day\n",
    "- holiday:    whether the day is a holiday or not (1/0)\n",
    "- workingday: whether the day is neither a weekend nor holiday (1/0)\n",
    "- weather:    Four Categories of weather\n",
    "            * 1-> Clear, Few clouds, Partly cloudy, Partly cloudy\n",
    "            * 2-> Mist + Cloudy, Mist + Broken clouds, Mist + Few clouds, Mist\n",
    "            * 3-> Light Snow and Rain + Thunderstorm + Scattered clouds, Light Rain + Scattered clouds\n",
    "            * 4-> Heavy Rain + Ice Pallets + Thunderstorm + Mist, Snow + Fog\n",
    "- temp:       hourly temperature in Celsius\n",
    "- atemp:      \"feels like\" temperature in Celsius\n",
    "- humidity:   relative humidity\n",
    "- windspeed:  wind speed\n",
    "\n",
    "\n",
    "- registered: number of registered user\n",
    "- casual:     number of non-registered user\n",
    "- count:      number of total rentals (registered + casual)"
   ]
  },
  {
   "cell_type": "markdown",
   "metadata": {
    "colab_type": "text",
    "id": "TnpF7FyVXBhF"
   },
   "source": [
    "### Importing Libraries"
   ]
  },
  {
   "cell_type": "code",
   "execution_count": null,
   "metadata": {
    "colab": {},
    "colab_type": "code",
    "id": "YMgin9nXbNy7"
   },
   "outputs": [],
   "source": [
    "#importing libraries \n",
    "\n",
    "import pandas as pd \n",
    "import numpy as np\n",
    "import matplotlib.pyplot as plt\n",
    "\n",
    "import warnings\n",
    "warnings.filterwarnings(\"ignore\")"
   ]
  },
  {
   "cell_type": "markdown",
   "metadata": {
    "colab_type": "text",
    "id": "ktsQxjBRXHAj"
   },
   "source": [
    "### Importing Dataset"
   ]
  },
  {
   "cell_type": "code",
   "execution_count": null,
   "metadata": {
    "colab": {},
    "colab_type": "code",
    "id": "lI2e8MjJbNzC"
   },
   "outputs": [],
   "source": [
    "df=pd.read_csv('Bike-Sharing-Dataset/hour.csv')\n",
    "df.shape"
   ]
  },
  {
   "cell_type": "code",
   "execution_count": null,
   "metadata": {
    "colab": {
     "base_uri": "https://localhost:8080/",
     "height": 313
    },
    "colab_type": "code",
    "id": "dw2yqvCsbNzI",
    "outputId": "1a11f4e6-1167-4b52-f710-01625d378443"
   },
   "outputs": [],
   "source": [
    "df.head()"
   ]
  },
  {
   "cell_type": "markdown",
   "metadata": {
    "colab_type": "text",
    "id": "P0-yEXH5XLFr"
   },
   "source": [
    "### Shuffling and Creating Train and Test Set"
   ]
  },
  {
   "cell_type": "markdown",
   "metadata": {},
   "source": [
    "Task 1:\n",
    "\n",
    "- Shuffle the dataset\n",
    "- Create Train and Validation set"
   ]
  },
  {
   "cell_type": "code",
   "execution_count": null,
   "metadata": {},
   "outputs": [],
   "source": [
    "## Shuffling the Dataset\n",
    "from sklearn.utils import shuffle\n",
    "data = shuffle(??)"
   ]
  },
  {
   "cell_type": "code",
   "execution_count": null,
   "metadata": {},
   "outputs": [],
   "source": [
    "#creating 4 divisions\n",
    "div = int(data.shape[0]/4)\n",
    "\n",
    "# 3 parts to train set and 1 part to test set\n",
    "train = data.iloc[:3*div+1]\n",
    "test = data.iloc[3*div+1:]"
   ]
  },
  {
   "cell_type": "code",
   "execution_count": null,
   "metadata": {},
   "outputs": [],
   "source": [
    "train.shape, test.shape, data.shape"
   ]
  },
  {
   "cell_type": "code",
   "execution_count": null,
   "metadata": {
    "colab": {
     "base_uri": "https://localhost:8080/",
     "height": 330
    },
    "colab_type": "code",
    "id": "CjlvWwGjbNzS",
    "outputId": "8aa6e75e-fa61-41b3-c3c1-4a0a60658c59"
   },
   "outputs": [],
   "source": [
    "train.head()"
   ]
  },
  {
   "cell_type": "code",
   "execution_count": null,
   "metadata": {
    "colab": {
     "base_uri": "https://localhost:8080/",
     "height": 313
    },
    "colab_type": "code",
    "id": "rBxpgybjCITI",
    "outputId": "a44593c6-2152-4de5-ee37-82376a4e6141"
   },
   "outputs": [],
   "source": [
    "test.head()"
   ]
  },
  {
   "cell_type": "markdown",
   "metadata": {
    "colab_type": "text",
    "id": "POU873Cu639K"
   },
   "source": [
    "## Simple Mean (mean of count)"
   ]
  },
  {
   "cell_type": "markdown",
   "metadata": {},
   "source": [
    "Task 2-\n",
    "\n",
    "- Calculate the mean of target variable"
   ]
  },
  {
   "cell_type": "code",
   "execution_count": null,
   "metadata": {},
   "outputs": [],
   "source": [
    "# calculate mean of column\n",
    "test['simple_mean'] = ??"
   ]
  },
  {
   "cell_type": "markdown",
   "metadata": {},
   "source": [
    "Task 3-\n",
    "\n",
    "- import mean absolute error from sklearn\n",
    "- calculate mean absolute error"
   ]
  },
  {
   "cell_type": "code",
   "execution_count": null,
   "metadata": {},
   "outputs": [],
   "source": [
    "#calculating mean absolute error\n",
    "\n",
    "from sklearn.metrics import __??___ as MAE\n",
    "simple_mean_error = MAE(??)\n",
    "simple_mean_error"
   ]
  },
  {
   "cell_type": "markdown",
   "metadata": {
    "colab_type": "text",
    "id": "wqIhsGgd66D1"
   },
   "source": [
    "## Mean count with respect to weekday"
   ]
  },
  {
   "cell_type": "markdown",
   "metadata": {},
   "source": [
    "Task 4 -\n",
    "- Check average count for different weekdays\n",
    "- Make predictions using average wrt weekday"
   ]
  },
  {
   "cell_type": "code",
   "execution_count": null,
   "metadata": {},
   "outputs": [],
   "source": [
    "# calculating mean count based on day of week \n",
    "# Hint: use  pivot table\n",
    "\n",
    "weekday_mean = pd.pivot_table(??, values=??, index = [??], aggfunc=??)\n",
    "weekday_mean"
   ]
  },
  {
   "cell_type": "code",
   "execution_count": null,
   "metadata": {},
   "outputs": [],
   "source": [
    "# initializing new column to zero\n",
    "test['weekday_mean'] = 0\n",
    "\n",
    "# For every unique entry in weekday\n",
    "for i in train[??].unique():\n",
    "    \n",
    "  # Assign the mean value corresponding to unique entry\n",
    "  test['weekday_mean'][test[??] == i] = train[??][train[??] == i].mean()"
   ]
  },
  {
   "cell_type": "code",
   "execution_count": null,
   "metadata": {
    "colab": {
     "base_uri": "https://localhost:8080/",
     "height": 34
    },
    "colab_type": "code",
    "id": "kDbHGHsr9pbD",
    "outputId": "58298fd4-d3ec-4aac-ecc2-a0dca7cf2bec"
   },
   "outputs": [],
   "source": [
    "#calculating mean absolute error\n",
    "weekday_mean_error = MAE(test['count'] , test['weekday_mean'] )\n",
    "weekday_mean_error"
   ]
  },
  {
   "cell_type": "markdown",
   "metadata": {
    "colab_type": "text",
    "id": "KyiP6zx7QVVX"
   },
   "source": [
    "## Mean Count with respect to Month"
   ]
  },
  {
   "cell_type": "markdown",
   "metadata": {},
   "source": [
    "Task 5-\n",
    "\n",
    "- Print month-wise average count using pivot table\n",
    "- Use month-wise average count as predictions\n",
    "- Calculate the Error"
   ]
  },
  {
   "cell_type": "code",
   "execution_count": null,
   "metadata": {},
   "outputs": [],
   "source": [
    "# calculating mean count based on month\n",
    "# use pivot table\n",
    "month_wise_count = ??\n",
    "month_wise_count"
   ]
  },
  {
   "cell_type": "code",
   "execution_count": null,
   "metadata": {},
   "outputs": [],
   "source": [
    "# initializing new column to zero\n",
    "test['month_wise_mean'] = 0\n",
    "\n",
    "# For every unique entry in month variable\n",
    "for i in ??\n",
    "    \n",
    "  # Assign the mean value corresponding to unique entry\n",
    "  test['month_wise_mean'][test['month'] == i] = ??"
   ]
  },
  {
   "cell_type": "code",
   "execution_count": null,
   "metadata": {},
   "outputs": [],
   "source": [
    "#calculating mean absolute error\n",
    "month_wise_mean_error = MAE(?? , ??)\n",
    "month_wise_mean_error"
   ]
  },
  {
   "cell_type": "markdown",
   "metadata": {
    "colab_type": "text",
    "id": "cZwBTzAvKUOt"
   },
   "source": [
    "## Mean Count with respect to both Month workingday"
   ]
  },
  {
   "cell_type": "code",
   "execution_count": null,
   "metadata": {
    "colab": {
     "base_uri": "https://localhost:8080/",
     "height": 394
    },
    "colab_type": "code",
    "id": "Q1uEuSr2oEjn",
    "outputId": "e1c35d74-1baa-4257-b38a-2f0979f5abcb"
   },
   "outputs": [],
   "source": [
    "combo = pd.pivot_table(train, values = 'count', index = ['month','workingday'], aggfunc = np.mean)\n",
    "combo"
   ]
  },
  {
   "cell_type": "markdown",
   "metadata": {},
   "source": [
    "Task 6-\n",
    "- Predict average count based on month and workingday variables"
   ]
  },
  {
   "cell_type": "code",
   "execution_count": null,
   "metadata": {},
   "outputs": [],
   "source": [
    "# Initiating new empty column\n",
    "test['combo_mean'] = 0\n",
    "\n",
    "\n",
    "# For every Unique Value in month\n",
    "for ??\n",
    "  # For every Unique Value in workingdaya\n",
    "  for ??\n",
    "        \n",
    "    # Calculate and Assign mean to new column, corresponding to both unique values simultaneously\n",
    "    test['combo_mean'][(test['month'] == i) & (test['workingday']==j)] = ??"
   ]
  },
  {
   "cell_type": "code",
   "execution_count": null,
   "metadata": {
    "colab": {
     "base_uri": "https://localhost:8080/",
     "height": 34
    },
    "colab_type": "code",
    "id": "PF5mzqJsKUxW",
    "outputId": "985e6616-8791-4cf2-fba0-0e932fc00047"
   },
   "outputs": [],
   "source": [
    "#calculating mean absolute error\n",
    "combo_mean_error = MAE(test['count'] , test['combo_mean'] )\n",
    "combo_mean_error"
   ]
  },
  {
   "cell_type": "code",
   "execution_count": null,
   "metadata": {},
   "outputs": [],
   "source": []
  }
 ],
 "metadata": {
  "colab": {
   "collapsed_sections": [],
   "name": "Reg Bench",
   "provenance": [],
   "toc_visible": true,
   "version": "0.3.2"
  },
  "kernelspec": {
   "display_name": "Python 3",
   "language": "python",
   "name": "python3"
  },
  "language_info": {
   "codemirror_mode": {
    "name": "ipython",
    "version": 3
   },
   "file_extension": ".py",
   "mimetype": "text/x-python",
   "name": "python",
   "nbconvert_exporter": "python",
   "pygments_lexer": "ipython3",
   "version": "3.7.6"
  }
 },
 "nbformat": 4,
 "nbformat_minor": 1
}
